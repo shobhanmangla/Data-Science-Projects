{
 "cells": [
  {
   "cell_type": "markdown",
   "id": "f71511b3-5837-4cbf-9379-340c2016d295",
   "metadata": {},
   "source": [
    "# IMDB Database Analysis Project\n",
    "\n",
    "## Project Overview\n",
    "This project focused on working with a reduced version of the Internet Movie Database (IMDB) using SQL to perform data exploration, cleaning, and analysis. The project utilized PostgreSQL to interact with multiple interconnected tables containing information about movies, actors, ratings, and financial data.\n",
    "\n",
    "## Key Objectives\n",
    "- Explore and extract relevant information from the IMDB database using SQL functions\n",
    "- Clean and transform data using string functions and regular expressions\n",
    "- Perform insightful analysis using joins and aggregation functions\n",
    "- Create refined views of complex data relationships\n",
    "\n",
    "## Major Components and Accomplishments\n",
    "\n",
    "### 1. Database Exploration\n",
    "- Successfully connected to and explored the IMDB database structure\n",
    "- Analyzed table relationships and schema using PostgreSQL meta-commands\n",
    "- Performed initial data sampling to understand content and quality\n",
    "\n",
    "### 2. Data Cleaning and Transformation\n",
    "- Created clean views of movie ratings data by extracting MPAA ratings from complex string formats\n",
    "- Transformed monetary values from string format to numerical data for analysis\n",
    "- Standardized currency types by focusing on USD values\n",
    "- Handled multi-format data challenges (different currencies, regional earnings)\n",
    "\n",
    "### 3. Financial Analysis\n",
    "- Created views to analyze movie gross earnings and budgets\n",
    "- Calculated movie profits by joining and comparing earnings and budget data\n",
    "- Identified limitations in the profit calculations due to regional constraints\n",
    "- Generated statistical summaries of earnings data\n",
    "\n",
    "### 4. Actor Analysis\n",
    "- Created a comprehensive view of actor appearances in films\n",
    "- Analyzed actor participation across multiple movies\n",
    "- Handled data relationships across multiple tables using appropriate joins\n",
    "\n",
    "## Technical Skills Demonstrated\n",
    "- Complex SQL query writing including CTEs and subqueries\n",
    "- Data cleaning using regular expressions\n",
    "- View creation and management\n",
    "- Statistical analysis using SQL aggregate functions\n",
    "- Join operations across multiple tables\n",
    "- String manipulation and pattern matching\n",
    "\n",
    "## Key Findings\n",
    "- Successfully identified top-grossing films and their profits\n",
    "- Discovered data limitations regarding international earnings\n",
    "- Found right-skewed distribution in movie earnings\n",
    "- Generated comprehensive actor filmography counts\n",
    "- Demonstrated the impact of data constraints on financial analysis\n",
    "\n",
    "## Challenges and Solutions\n",
    "- Handled complex string parsing for MPAA ratings and financial data\n",
    "- Managed multiple currency formats and standardization\n",
    "- Dealt with missing data and NULL values\n",
    "- Created efficient queries for large dataset analysis\n",
    "\n",
    "## Project Impact\n",
    "This project demonstrated practical application of database management and analysis skills while providing valuable insights into the film industry's financial aspects and actor participation patterns. The created views and analyses provide a foundation for further investigation into movie industry trends and patterns."
   ]
  },
  {
   "cell_type": "code",
   "execution_count": null,
   "id": "34b3829d-38fa-4714-b1c0-890b19895cf3",
   "metadata": {},
   "outputs": [],
   "source": []
  }
 ],
 "metadata": {
  "kernelspec": {
   "display_name": "Python 3 (ipykernel)",
   "language": "python",
   "name": "python3"
  },
  "language_info": {
   "codemirror_mode": {
    "name": "ipython",
    "version": 3
   },
   "file_extension": ".py",
   "mimetype": "text/x-python",
   "name": "python",
   "nbconvert_exporter": "python",
   "pygments_lexer": "ipython3",
   "version": "3.11.10"
  }
 },
 "nbformat": 4,
 "nbformat_minor": 5
}
